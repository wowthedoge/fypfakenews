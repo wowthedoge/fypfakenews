{
 "cells": [
  {
   "cell_type": "code",
   "execution_count": 1,
   "metadata": {
    "metadata": {}
   },
   "outputs": [],
   "source": [
    "OPENAI_API_KEY = ''\n",
    "NEO4J_URI = \"bolt://localhost:7687\"\n",
    "NEO4J_USERNAME= \"neo4j\"\n",
    "NEO4J_PASSWORD= \"password\""
   ]
  },
  {
   "cell_type": "code",
   "execution_count": 3,
   "metadata": {
    "metadata": {}
   },
   "outputs": [],
   "source": [
    "from langchain_community.graphs import Neo4jGraph\n",
    "\n",
    "graph = Neo4jGraph(NEO4J_URI, NEO4J_USERNAME, NEO4J_PASSWORD)\n",
    "\n",
    "from langchain_experimental.graph_transformers import LLMGraphTransformer\n",
    "from langchain_openai import ChatOpenAI\n",
    "\n",
    "llm = ChatOpenAI(api_key=OPENAI_API_KEY, temperature=0, model_name=\"gpt-3.5-turbo-0125\")\n",
    "\n",
    "llm_transformer = LLMGraphTransformer(llm=llm)"
   ]
  },
  {
   "cell_type": "code",
   "execution_count": 4,
   "metadata": {
    "metadata": {}
   },
   "outputs": [
    {
     "name": "stdout",
     "output_type": "stream",
     "text": [
      "Nodes:[Node(id='Sabreen Al-Sakani', type='Person'), Node(id='Baby Sabreen', type='Person'), Node(id='Dr. Mohammed Salama', type='Person'), Node(id='Mirvat Al-Sakani', type='Person'), Node(id='Benjamin Netanyahu', type='Person')]\n",
      "Relationships:[Relationship(source=Node(id='Sabreen Al-Sakani', type='Person'), target=Node(id='Baby Sabreen', type='Person'), type='MOTHER'), Relationship(source=Node(id='Baby Sabreen', type='Person'), target=Node(id='Dr. Mohammed Salama', type='Person'), type='DOCTOR'), Relationship(source=Node(id='Baby Sabreen', type='Person'), target=Node(id='Mirvat Al-Sakani', type='Person'), type='GRANDMOTHER'), Relationship(source=Node(id='Benjamin Netanyahu', type='Person'), target=Node(id='Baby Sabreen', type='Person'), type='PM')]\n"
     ]
    }
   ],
   "source": [
    "from langchain_core.documents import Document\n",
    "\n",
    "text = \"\"\"\n",
    "\n",
    "A baby rescued from her dying mother's womb after an Israeli air strike in southern Gaza has died, the BBC has learned.\n",
    "\n",
    "Baby Sabreen al-Sakani was delivered by Caesarean section in a Rafah hospital shortly after midnight on Sunday.\n",
    "\n",
    "Amid chaotic scenes doctors resuscitated the baby, using a hand pump to push air into her lungs.\n",
    "\n",
    "However she died on Thursday and has been buried next to her mother after whom she was named.\n",
    "\n",
    "Baby Sabreen was among 16 children killed in two air strikes in Rafah last weekend. All were killed in a bombardment targeting the housing complex where they lived. \n",
    "\n",
    "The Israel Defense Forces (IDF) said they were targeting Hamas fighters and infrastructure.\n",
    "\n",
    "Sabreen's mother was seven-and-a-half months pregnant when the Israeli air strike on the al-Sakani family home took place just before midnight on Saturday as she, her husband Shukri and their three-year-old daughter Malak were asleep.\n",
    "\n",
    "Sabreen suffered extensive injuries and her husband and Malak were killed, but the baby was still alive in her mother's womb when rescue workers reached the site.\n",
    "\n",
    "They rushed Sabreen to hospital, where doctors performed an emergency Caesarean section to deliver the child.\n",
    "\n",
    "It appeared that Sabreen had stabilised and she was subsequently placed in an incubator. At the time doctors described her condition as critical.\n",
    "\n",
    "She weighed just 1.4kg (3.1 lbs) when she was born and was in severe respiratory distress, which doctors said was because she had been born prematurely.\n",
    "\n",
    "\"This child should have been in the mother's womb at this time, but she was deprived of this right,\" Dr Mohammed Salama, head of the emergency neo-natal unit at Emirati Hospital in Rafah, said after she was born.\n",
    "\n",
    "Baby Sabreen's maternal grandmother, Mirvat al-Sakani, told the BBC the family had planned to adopt the child.\n",
    "\n",
    "The Hamas-run health ministry in Gaza says that of the more than 34,000 people killed in Gaza since the war began on 7 October, at least two-thirds are women and children.\n",
    "\n",
    "Israel launched its offensive after about 1,200 Israelis and foreigners - mostly civilians - were killed and 253 others were taken back to Gaza as hostages, according to Israeli tallies.\n",
    "There are now an estimated 1.4 million people crowded into Rafah having been told by the IDF to move south to safety earlier in the war.\n",
    "\n",
    "However Israel says it is planning a ground offensive into Rafah, with Israeli PM Benjamin Netanyahu insisting it is necessary to defeat Hamas and search for hostages.\n",
    "\n",
    "Satellite images show two new tent encampments in southern Gaza with Israeli media reports saying preparations to evacuate civilians from Rafah were under way.\n",
    "\n",
    "The US has appealed to Israel to adopt a targeted approach rather than launch a full-scale invasion of Rafah, which might precipitate an even greater humanitarian crisis.\n",
    "\"\"\"\n",
    "documents = [Document(page_content=text)]\n",
    "graph_documents = llm_transformer.convert_to_graph_documents(documents)\n",
    "print(f\"Nodes:{graph_documents[0].nodes}\")\n",
    "print(f\"Relationships:{graph_documents[0].relationships}\")"
   ]
  },
  {
   "cell_type": "code",
   "execution_count": null,
   "metadata": {},
   "outputs": [],
   "source": [
    "graph.add_graph_documents(graph_documents)"
   ]
  }
 ],
 "metadata": {
  "kernelspec": {
   "display_name": "fyp",
   "language": "python",
   "name": "python3"
  },
  "language_info": {
   "codemirror_mode": {
    "name": "ipython",
    "version": 3
   },
   "file_extension": ".py",
   "mimetype": "text/x-python",
   "name": "python",
   "nbconvert_exporter": "python",
   "pygments_lexer": "ipython3",
   "version": "3.12.3"
  }
 },
 "nbformat": 4,
 "nbformat_minor": 2
}
